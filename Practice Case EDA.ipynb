{
 "cells": [
  {
   "cell_type": "markdown",
   "metadata": {},
   "source": [
    "# Practice Case - Exploratory Data Analysis"
   ]
  },
  {
   "cell_type": "markdown",
   "metadata": {},
   "source": [
    "## **Scenario** "
   ]
  },
  {
   "cell_type": "markdown",
   "metadata": {},
   "source": [
    "Looking back at the season that was 2018-2019 and looking to delve into sight deeper insights. Using the data to see how clubs are similar stylistically, in the way they pass, attack and score goals.\n",
    "\n",
    "This data set is wide ranging in the sense it encompasses stats seen on a regular league table but goes beyond looking at how teams pass and keep possession, how they defend, tackle as well as looking at market values of a team and how much money each team was allotted from the TV rights deal. \n",
    "This data was gathered from\n",
    "\n",
    "1) BBC Sports Football\n",
    "\n",
    "2) Premierleague.com\n",
    "\n",
    "3) Transfermarkt.co.uk"
   ]
  },
  {
   "cell_type": "markdown",
   "metadata": {},
   "source": [
    "## Data Pre-processing"
   ]
  },
  {
   "cell_type": "code",
   "execution_count": 1,
   "metadata": {},
   "outputs": [],
   "source": [
    "import pandas as pd\n",
    "pd.options.display.max_columns = 50\n",
    "import numpy as np\n",
    "import matplotlib.pyplot as plt\n",
    "import seaborn as sns"
   ]
  },
  {
   "cell_type": "code",
   "execution_count": 2,
   "metadata": {},
   "outputs": [
    {
     "data": {
      "text/html": [
       "<div>\n",
       "<style scoped>\n",
       "    .dataframe tbody tr th:only-of-type {\n",
       "        vertical-align: middle;\n",
       "    }\n",
       "\n",
       "    .dataframe tbody tr th {\n",
       "        vertical-align: top;\n",
       "    }\n",
       "\n",
       "    .dataframe thead th {\n",
       "        text-align: right;\n",
       "    }\n",
       "</style>\n",
       "<table border=\"1\" class=\"dataframe\">\n",
       "  <thead>\n",
       "    <tr style=\"text-align: right;\">\n",
       "      <th></th>\n",
       "      <th>Team</th>\n",
       "      <th>category</th>\n",
       "      <th>general_league_position</th>\n",
       "      <th>finance _live_games_televised</th>\n",
       "      <th>finance _tv_revenue</th>\n",
       "      <th>general_matches_played</th>\n",
       "      <th>general_won</th>\n",
       "      <th>general_draw</th>\n",
       "      <th>general_lost</th>\n",
       "      <th>attack_scored</th>\n",
       "      <th>defence_goals_conceeded</th>\n",
       "      <th>general_goal_difference</th>\n",
       "      <th>general_points</th>\n",
       "      <th>general_squad_size</th>\n",
       "      <th>general_squad_average_age</th>\n",
       "      <th>general_squad_foreigners</th>\n",
       "      <th>finance _team_market</th>\n",
       "      <th>finance _market_average</th>\n",
       "      <th>attack_passes</th>\n",
       "      <th>attack_passes_through</th>\n",
       "      <th>attack_passes_long</th>\n",
       "      <th>attack_passes_back</th>\n",
       "      <th>attack_crosses</th>\n",
       "      <th>attack_corners_taken</th>\n",
       "      <th>attack_shots</th>\n",
       "      <th>attack_shots_on_target</th>\n",
       "      <th>attack_goals_headed</th>\n",
       "      <th>attack_goals_penalty</th>\n",
       "      <th>attack_goals_box</th>\n",
       "      <th>attack_goals_outsidebox</th>\n",
       "      <th>general_card_yellow</th>\n",
       "      <th>general_card_red</th>\n",
       "      <th>attack_goals_counter</th>\n",
       "      <th>attack_goals_freekick</th>\n",
       "      <th>defence_saves</th>\n",
       "      <th>defence_blocks</th>\n",
       "      <th>defence_interceptions</th>\n",
       "      <th>defence_tackles</th>\n",
       "      <th>defence_tackles_last_man</th>\n",
       "      <th>defence_clearances</th>\n",
       "      <th>defence_clearances_headed</th>\n",
       "      <th>defence_penalty_conceeded</th>\n",
       "      <th>attack_posession</th>\n",
       "      <th>attack_pass_accuracy</th>\n",
       "    </tr>\n",
       "  </thead>\n",
       "  <tbody>\n",
       "    <tr>\n",
       "      <th>0</th>\n",
       "      <td>Manchester City</td>\n",
       "      <td>Champions League</td>\n",
       "      <td>1</td>\n",
       "      <td>26</td>\n",
       "      <td>150986355</td>\n",
       "      <td>38</td>\n",
       "      <td>32</td>\n",
       "      <td>2</td>\n",
       "      <td>4</td>\n",
       "      <td>95</td>\n",
       "      <td>23</td>\n",
       "      <td>72</td>\n",
       "      <td>98</td>\n",
       "      <td>25</td>\n",
       "      <td>27.1</td>\n",
       "      <td>20</td>\n",
       "      <td>1003200000</td>\n",
       "      <td>39987200</td>\n",
       "      <td>26,581</td>\n",
       "      <td>112</td>\n",
       "      <td>1,814</td>\n",
       "      <td>4,240</td>\n",
       "      <td>783</td>\n",
       "      <td>298</td>\n",
       "      <td>683</td>\n",
       "      <td>260</td>\n",
       "      <td>12</td>\n",
       "      <td>3</td>\n",
       "      <td>80</td>\n",
       "      <td>15</td>\n",
       "      <td>44</td>\n",
       "      <td>1</td>\n",
       "      <td>5</td>\n",
       "      <td>2</td>\n",
       "      <td>58</td>\n",
       "      <td>63</td>\n",
       "      <td>362</td>\n",
       "      <td>518</td>\n",
       "      <td>0</td>\n",
       "      <td>543</td>\n",
       "      <td>295</td>\n",
       "      <td>4</td>\n",
       "      <td>64.0</td>\n",
       "      <td>89.0</td>\n",
       "    </tr>\n",
       "    <tr>\n",
       "      <th>1</th>\n",
       "      <td>Liverpool</td>\n",
       "      <td>Champions League</td>\n",
       "      <td>2</td>\n",
       "      <td>29</td>\n",
       "      <td>152425146</td>\n",
       "      <td>38</td>\n",
       "      <td>30</td>\n",
       "      <td>7</td>\n",
       "      <td>1</td>\n",
       "      <td>89</td>\n",
       "      <td>22</td>\n",
       "      <td>67</td>\n",
       "      <td>97</td>\n",
       "      <td>24</td>\n",
       "      <td>26.8</td>\n",
       "      <td>16</td>\n",
       "      <td>836440000</td>\n",
       "      <td>34848000</td>\n",
       "      <td>23,638</td>\n",
       "      <td>98</td>\n",
       "      <td>2,250</td>\n",
       "      <td>3,416</td>\n",
       "      <td>721</td>\n",
       "      <td>249</td>\n",
       "      <td>575</td>\n",
       "      <td>226</td>\n",
       "      <td>19</td>\n",
       "      <td>7</td>\n",
       "      <td>84</td>\n",
       "      <td>5</td>\n",
       "      <td>38</td>\n",
       "      <td>2</td>\n",
       "      <td>6</td>\n",
       "      <td>1</td>\n",
       "      <td>76</td>\n",
       "      <td>78</td>\n",
       "      <td>314</td>\n",
       "      <td>610</td>\n",
       "      <td>2</td>\n",
       "      <td>639</td>\n",
       "      <td>317</td>\n",
       "      <td>1</td>\n",
       "      <td>58.8</td>\n",
       "      <td>84.4</td>\n",
       "    </tr>\n",
       "    <tr>\n",
       "      <th>2</th>\n",
       "      <td>Chelsea</td>\n",
       "      <td>Champions League Qualification</td>\n",
       "      <td>3</td>\n",
       "      <td>25</td>\n",
       "      <td>146030216</td>\n",
       "      <td>38</td>\n",
       "      <td>21</td>\n",
       "      <td>9</td>\n",
       "      <td>8</td>\n",
       "      <td>63</td>\n",
       "      <td>39</td>\n",
       "      <td>24</td>\n",
       "      <td>72</td>\n",
       "      <td>26</td>\n",
       "      <td>28.1</td>\n",
       "      <td>19</td>\n",
       "      <td>779460000</td>\n",
       "      <td>29981600</td>\n",
       "      <td>25,070</td>\n",
       "      <td>146</td>\n",
       "      <td>1,774</td>\n",
       "      <td>3,874</td>\n",
       "      <td>692</td>\n",
       "      <td>215</td>\n",
       "      <td>607</td>\n",
       "      <td>198</td>\n",
       "      <td>8</td>\n",
       "      <td>5</td>\n",
       "      <td>54</td>\n",
       "      <td>9</td>\n",
       "      <td>49</td>\n",
       "      <td>0</td>\n",
       "      <td>1</td>\n",
       "      <td>1</td>\n",
       "      <td>85</td>\n",
       "      <td>73</td>\n",
       "      <td>351</td>\n",
       "      <td>618</td>\n",
       "      <td>2</td>\n",
       "      <td>593</td>\n",
       "      <td>330</td>\n",
       "      <td>2</td>\n",
       "      <td>59.9</td>\n",
       "      <td>87.6</td>\n",
       "    </tr>\n",
       "    <tr>\n",
       "      <th>3</th>\n",
       "      <td>Tottenham</td>\n",
       "      <td>Champions League Qualification</td>\n",
       "      <td>4</td>\n",
       "      <td>26</td>\n",
       "      <td>145230801</td>\n",
       "      <td>38</td>\n",
       "      <td>23</td>\n",
       "      <td>2</td>\n",
       "      <td>13</td>\n",
       "      <td>67</td>\n",
       "      <td>39</td>\n",
       "      <td>28</td>\n",
       "      <td>71</td>\n",
       "      <td>25</td>\n",
       "      <td>27.0</td>\n",
       "      <td>17</td>\n",
       "      <td>735240000</td>\n",
       "      <td>29409600</td>\n",
       "      <td>21,295</td>\n",
       "      <td>87</td>\n",
       "      <td>2,267</td>\n",
       "      <td>3,191</td>\n",
       "      <td>643</td>\n",
       "      <td>194</td>\n",
       "      <td>537</td>\n",
       "      <td>189</td>\n",
       "      <td>14</td>\n",
       "      <td>4</td>\n",
       "      <td>53</td>\n",
       "      <td>14</td>\n",
       "      <td>56</td>\n",
       "      <td>3</td>\n",
       "      <td>5</td>\n",
       "      <td>2</td>\n",
       "      <td>121</td>\n",
       "      <td>112</td>\n",
       "      <td>326</td>\n",
       "      <td>626</td>\n",
       "      <td>3</td>\n",
       "      <td>770</td>\n",
       "      <td>411</td>\n",
       "      <td>5</td>\n",
       "      <td>56.7</td>\n",
       "      <td>83.2</td>\n",
       "    </tr>\n",
       "    <tr>\n",
       "      <th>4</th>\n",
       "      <td>Arsenal</td>\n",
       "      <td>Europa League</td>\n",
       "      <td>5</td>\n",
       "      <td>25</td>\n",
       "      <td>142193180</td>\n",
       "      <td>38</td>\n",
       "      <td>21</td>\n",
       "      <td>7</td>\n",
       "      <td>10</td>\n",
       "      <td>73</td>\n",
       "      <td>51</td>\n",
       "      <td>22</td>\n",
       "      <td>70</td>\n",
       "      <td>26</td>\n",
       "      <td>27.5</td>\n",
       "      <td>18</td>\n",
       "      <td>701800000</td>\n",
       "      <td>26989600</td>\n",
       "      <td>20,805</td>\n",
       "      <td>65</td>\n",
       "      <td>2,062</td>\n",
       "      <td>3,102</td>\n",
       "      <td>605</td>\n",
       "      <td>209</td>\n",
       "      <td>467</td>\n",
       "      <td>170</td>\n",
       "      <td>5</td>\n",
       "      <td>4</td>\n",
       "      <td>62</td>\n",
       "      <td>11</td>\n",
       "      <td>72</td>\n",
       "      <td>2</td>\n",
       "      <td>3</td>\n",
       "      <td>3</td>\n",
       "      <td>133</td>\n",
       "      <td>118</td>\n",
       "      <td>412</td>\n",
       "      <td>609</td>\n",
       "      <td>2</td>\n",
       "      <td>762</td>\n",
       "      <td>404</td>\n",
       "      <td>7</td>\n",
       "      <td>56.1</td>\n",
       "      <td>83.3</td>\n",
       "    </tr>\n",
       "  </tbody>\n",
       "</table>\n",
       "</div>"
      ],
      "text/plain": [
       "              Team                        category  general_league_position  \\\n",
       "0  Manchester City                Champions League                        1   \n",
       "1        Liverpool                Champions League                        2   \n",
       "2          Chelsea  Champions League Qualification                        3   \n",
       "3        Tottenham  Champions League Qualification                        4   \n",
       "4          Arsenal                   Europa League                        5   \n",
       "\n",
       "   finance _live_games_televised  finance _tv_revenue  general_matches_played  \\\n",
       "0                             26            150986355                      38   \n",
       "1                             29            152425146                      38   \n",
       "2                             25            146030216                      38   \n",
       "3                             26            145230801                      38   \n",
       "4                             25            142193180                      38   \n",
       "\n",
       "   general_won  general_draw  general_lost  attack_scored  \\\n",
       "0           32             2             4             95   \n",
       "1           30             7             1             89   \n",
       "2           21             9             8             63   \n",
       "3           23             2            13             67   \n",
       "4           21             7            10             73   \n",
       "\n",
       "   defence_goals_conceeded  general_goal_difference  general_points  \\\n",
       "0                       23                       72              98   \n",
       "1                       22                       67              97   \n",
       "2                       39                       24              72   \n",
       "3                       39                       28              71   \n",
       "4                       51                       22              70   \n",
       "\n",
       "   general_squad_size  general_squad_average_age  general_squad_foreigners  \\\n",
       "0                  25                       27.1                        20   \n",
       "1                  24                       26.8                        16   \n",
       "2                  26                       28.1                        19   \n",
       "3                  25                       27.0                        17   \n",
       "4                  26                       27.5                        18   \n",
       "\n",
       "   finance _team_market  finance _market_average attack_passes  \\\n",
       "0            1003200000                 39987200        26,581   \n",
       "1             836440000                 34848000        23,638   \n",
       "2             779460000                 29981600        25,070   \n",
       "3             735240000                 29409600        21,295   \n",
       "4             701800000                 26989600        20,805   \n",
       "\n",
       "   attack_passes_through attack_passes_long attack_passes_back  \\\n",
       "0                    112              1,814              4,240   \n",
       "1                     98              2,250              3,416   \n",
       "2                    146              1,774              3,874   \n",
       "3                     87              2,267              3,191   \n",
       "4                     65              2,062              3,102   \n",
       "\n",
       "   attack_crosses  attack_corners_taken  attack_shots  attack_shots_on_target  \\\n",
       "0             783                   298           683                     260   \n",
       "1             721                   249           575                     226   \n",
       "2             692                   215           607                     198   \n",
       "3             643                   194           537                     189   \n",
       "4             605                   209           467                     170   \n",
       "\n",
       "   attack_goals_headed  attack_goals_penalty  attack_goals_box  \\\n",
       "0                   12                     3                80   \n",
       "1                   19                     7                84   \n",
       "2                    8                     5                54   \n",
       "3                   14                     4                53   \n",
       "4                    5                     4                62   \n",
       "\n",
       "   attack_goals_outsidebox  general_card_yellow  general_card_red  \\\n",
       "0                       15                   44                 1   \n",
       "1                        5                   38                 2   \n",
       "2                        9                   49                 0   \n",
       "3                       14                   56                 3   \n",
       "4                       11                   72                 2   \n",
       "\n",
       "   attack_goals_counter  attack_goals_freekick  defence_saves  defence_blocks  \\\n",
       "0                     5                      2             58              63   \n",
       "1                     6                      1             76              78   \n",
       "2                     1                      1             85              73   \n",
       "3                     5                      2            121             112   \n",
       "4                     3                      3            133             118   \n",
       "\n",
       "   defence_interceptions  defence_tackles  defence_tackles_last_man  \\\n",
       "0                    362              518                         0   \n",
       "1                    314              610                         2   \n",
       "2                    351              618                         2   \n",
       "3                    326              626                         3   \n",
       "4                    412              609                         2   \n",
       "\n",
       "  defence_clearances  defence_clearances_headed  defence_penalty_conceeded  \\\n",
       "0                543                        295                          4   \n",
       "1                639                        317                          1   \n",
       "2                593                        330                          2   \n",
       "3                770                        411                          5   \n",
       "4                762                        404                          7   \n",
       "\n",
       "   attack_posession  attack_pass_accuracy  \n",
       "0              64.0                  89.0  \n",
       "1              58.8                  84.4  \n",
       "2              59.9                  87.6  \n",
       "3              56.7                  83.2  \n",
       "4              56.1                  83.3  "
      ]
     },
     "execution_count": 2,
     "metadata": {},
     "output_type": "execute_result"
    }
   ],
   "source": [
    "# Import Data\n",
    "df = pd.read_csv('epl_1819.csv')\n",
    "df.head()"
   ]
  },
  {
   "cell_type": "code",
   "execution_count": 3,
   "metadata": {},
   "outputs": [
    {
     "data": {
      "text/plain": [
       "(20, 44)"
      ]
     },
     "execution_count": 3,
     "metadata": {},
     "output_type": "execute_result"
    }
   ],
   "source": [
    "df.shape"
   ]
  },
  {
   "cell_type": "markdown",
   "metadata": {},
   "source": [
    "### Case No 1\n",
    "\n",
    "### 1.\tIs this data clean?"
   ]
  },
  {
   "cell_type": "code",
   "execution_count": 4,
   "metadata": {},
   "outputs": [
    {
     "name": "stdout",
     "output_type": "stream",
     "text": [
      "Jumlah Data Duplikasi dalam Dataset: 0\n"
     ]
    }
   ],
   "source": [
    "# Inspection Duplicate Data\n",
    "\n",
    "print('Jumlah Data Duplikasi dalam Dataset:', df.duplicated(subset=None).sum())"
   ]
  },
  {
   "cell_type": "code",
   "execution_count": 5,
   "metadata": {},
   "outputs": [
    {
     "name": "stdout",
     "output_type": "stream",
     "text": [
      "Jumlah Missing Values dalam Dataset: 0\n"
     ]
    }
   ],
   "source": [
    "# Inspection Missing Values\n",
    "\n",
    "print('Jumlah Missing Values dalam Dataset:', df.isna().sum().sum())"
   ]
  },
  {
   "cell_type": "code",
   "execution_count": 6,
   "metadata": {},
   "outputs": [
    {
     "data": {
      "text/plain": [
       "Team                              object\n",
       "category                          object\n",
       "general_league_position            int64\n",
       "finance _live_games_televised      int64\n",
       "finance _tv_revenue                int64\n",
       "general_matches_played             int64\n",
       "general_won                        int64\n",
       "general_draw                       int64\n",
       "general_lost                       int64\n",
       "attack_scored                      int64\n",
       "defence_goals_conceeded            int64\n",
       "general_goal_difference            int64\n",
       "general_points                     int64\n",
       "general_squad_size                 int64\n",
       "general_squad_average_age        float64\n",
       "general_squad_foreigners           int64\n",
       "finance _team_market               int64\n",
       "finance _market_average            int64\n",
       "attack_passes                     object\n",
       "attack_passes_through              int64\n",
       "attack_passes_long                object\n",
       "attack_passes_back                object\n",
       "attack_crosses                     int64\n",
       "attack_corners_taken               int64\n",
       "attack_shots                       int64\n",
       "attack_shots_on_target             int64\n",
       "attack_goals_headed                int64\n",
       "attack_goals_penalty               int64\n",
       "attack_goals_box                   int64\n",
       "attack_goals_outsidebox            int64\n",
       "general_card_yellow                int64\n",
       "general_card_red                   int64\n",
       "attack_goals_counter               int64\n",
       "attack_goals_freekick              int64\n",
       "defence_saves                      int64\n",
       "defence_blocks                     int64\n",
       "defence_interceptions              int64\n",
       "defence_tackles                    int64\n",
       "defence_tackles_last_man           int64\n",
       "defence_clearances                object\n",
       "defence_clearances_headed          int64\n",
       "defence_penalty_conceeded          int64\n",
       "attack_posession                 float64\n",
       "attack_pass_accuracy             float64\n",
       "dtype: object"
      ]
     },
     "execution_count": 6,
     "metadata": {},
     "output_type": "execute_result"
    }
   ],
   "source": [
    "# Inspection Data Types\n",
    "\n",
    "df.dtypes"
   ]
  },
  {
   "cell_type": "markdown",
   "metadata": {},
   "source": [
    "### Based on inspection above, there's several columns have object type for numeric data. it should be converted to numeric before columns we are used.Conclusion, Dataset is not clean."
   ]
  },
  {
   "cell_type": "markdown",
   "metadata": {},
   "source": [
    "### Case No 2\n",
    "\n",
    "### 2.\tHow is the point distribution of the epl team? and which team is an anomaly?"
   ]
  },
  {
   "cell_type": "code",
   "execution_count": 7,
   "metadata": {},
   "outputs": [
    {
     "name": "stderr",
     "output_type": "stream",
     "text": [
      "C:\\Users\\hp\\Anaconda3\\lib\\site-packages\\seaborn\\distributions.py:2557: FutureWarning: `distplot` is a deprecated function and will be removed in a future version. Please adapt your code to use either `displot` (a figure-level function with similar flexibility) or `histplot` (an axes-level function for histograms).\n",
      "  warnings.warn(msg, FutureWarning)\n"
     ]
    },
    {
     "data": {
      "image/png": "[encoded data removed]",
      "text/plain": [
       "<Figure size 432x288 with 1 Axes>"
      ]
     },
     "metadata": {
      "needs_background": "light"
     },
     "output_type": "display_data"
    }
   ],
   "source": [
    "# Create histogram\n",
    "\n",
    "import pandas as pd\n",
    "import seaborn as sns\n",
    "from matplotlib import pyplot as plt\n",
    "\n",
    "sns.distplot(df['general_points'])\n",
    "plt.show()"
   ]
  },
  {
   "cell_type": "code",
   "execution_count": 8,
   "metadata": {},
   "outputs": [
    {
     "name": "stderr",
     "output_type": "stream",
     "text": [
      "C:\\Users\\hp\\Anaconda3\\lib\\site-packages\\seaborn\\_decorators.py:43: FutureWarning: Pass the following variable as a keyword arg: x. From version 0.12, the only valid positional argument will be `data`, and passing other arguments without an explicit keyword will result in an error or misinterpretation.\n",
      "  FutureWarning\n"
     ]
    },
    {
     "data": {
      "image/png": "[encoded data removed]",
      "text/plain": [
       "<Figure size 432x288 with 1 Axes>"
      ]
     },
     "metadata": {
      "needs_background": "light"
     },
     "output_type": "display_data"
    }
   ],
   "source": [
    "# Create Boxplot\n",
    "\n",
    "sns.boxplot(df['general_points'])\n",
    "plt.show()"
   ]
  },
  {
   "cell_type": "code",
   "execution_count": 9,
   "metadata": {},
   "outputs": [
    {
     "name": "stdout",
     "output_type": "stream",
     "text": [
      "Shape awal:  (20, 44)\n"
     ]
    }
   ],
   "source": [
    "# Check outliers using IQR Score\n",
    "# Q1, Q3, dan IQR\n",
    "Q1 = df['general_points'].quantile(0.25)\n",
    "Q3 = df['general_points'].quantile(0.75)\n",
    "IQR = Q3 - Q1\n",
    "\n",
    "# Check shape (rows and columns) before removing outliers\n",
    "print('Shape awal: ', df.shape)"
   ]
  },
  {
   "cell_type": "code",
   "execution_count": 10,
   "metadata": {},
   "outputs": [
    {
     "name": "stdout",
     "output_type": "stream",
     "text": [
      "Shape akhir:  (20, 44)\n"
     ]
    }
   ],
   "source": [
    "# Removing outliers\n",
    "df_cek = df[~((df['general_points'] < (Q1 - 1.5 * IQR)) | (df['general_points'] > (Q3 + 1.5 * IQR)))]\n",
    "\n",
    "# Check shape (rows and columns) after removing outliers\n",
    "print('Shape akhir: ', df.shape)"
   ]
  },
  {
   "cell_type": "markdown",
   "metadata": {},
   "source": [
    "### Based on histogram and boxplot, there's no outliers or anomaly in dataset. Removing outliers using IQR score also was carried out, the shape of dataset remained has same rows and columns. Conclusion, there is no outliers/ anomaly data in dataset."
   ]
  },
  {
   "cell_type": "markdown",
   "metadata": {},
   "source": [
    "### Case No 3\n",
    "\n",
    "### 3.\tWhich team has the best attack?"
   ]
  },
  {
   "cell_type": "code",
   "execution_count": 11,
   "metadata": {},
   "outputs": [
    {
     "data": {
      "text/plain": [
       "Team                              object\n",
       "category                          object\n",
       "general_league_position            int64\n",
       "finance _live_games_televised      int64\n",
       "finance _tv_revenue                int64\n",
       "general_matches_played             int64\n",
       "general_won                        int64\n",
       "general_draw                       int64\n",
       "general_lost                       int64\n",
       "attack_scored                      int64\n",
       "defence_goals_conceeded            int64\n",
       "general_goal_difference            int64\n",
       "general_points                     int64\n",
       "general_squad_size                 int64\n",
       "general_squad_average_age        float64\n",
       "general_squad_foreigners           int64\n",
       "finance _team_market               int64\n",
       "finance _market_average            int64\n",
       "attack_passes                     object\n",
       "attack_passes_through              int64\n",
       "attack_passes_long                object\n",
       "attack_passes_back                object\n",
       "attack_crosses                     int64\n",
       "attack_corners_taken               int64\n",
       "attack_shots                       int64\n",
       "attack_shots_on_target             int64\n",
       "attack_goals_headed                int64\n",
       "attack_goals_penalty               int64\n",
       "attack_goals_box                   int64\n",
       "attack_goals_outsidebox            int64\n",
       "general_card_yellow                int64\n",
       "general_card_red                   int64\n",
       "attack_goals_counter               int64\n",
       "attack_goals_freekick              int64\n",
       "defence_saves                      int64\n",
       "defence_blocks                     int64\n",
       "defence_interceptions              int64\n",
       "defence_tackles                    int64\n",
       "defence_tackles_last_man           int64\n",
       "defence_clearances                object\n",
       "defence_clearances_headed          int64\n",
       "defence_penalty_conceeded          int64\n",
       "attack_posession                 float64\n",
       "attack_pass_accuracy             float64\n",
       "dtype: object"
      ]
     },
     "execution_count": 11,
     "metadata": {},
     "output_type": "execute_result"
    }
   ],
   "source": [
    "#Check data types\n",
    "\n",
    "df.dtypes"
   ]
  },
  {
   "cell_type": "code",
   "execution_count": 12,
   "metadata": {},
   "outputs": [],
   "source": [
    "# Convert column 'attack_passes'\n",
    "df['attack_passes'] = df['attack_passes'].str.replace(',', '')\n",
    "df[['attack_passes']] = df[['attack_passes']].apply(pd.to_numeric)"
   ]
  },
  {
   "cell_type": "code",
   "execution_count": 13,
   "metadata": {},
   "outputs": [],
   "source": [
    "# Convert column 'attack_passes_long'\n",
    "df['attack_passes_long'] = df['attack_passes_long'].str.replace(',', '')\n",
    "df[['attack_passes_long']] = df[['attack_passes_long']].apply(pd.to_numeric)"
   ]
  },
  {
   "cell_type": "code",
   "execution_count": 14,
   "metadata": {},
   "outputs": [],
   "source": [
    "# Convert column 'attack_passes_back'\n",
    "df['attack_passes_back'] = df['attack_passes_back'].str.replace(',', '')\n",
    "df[['attack_passes_back']] = df[['attack_passes_back']].apply(pd.to_numeric)"
   ]
  },
  {
   "cell_type": "code",
   "execution_count": 15,
   "metadata": {},
   "outputs": [
    {
     "name": "stdout",
     "output_type": "stream",
     "text": [
      "Team                              object\n",
      "category                          object\n",
      "general_league_position            int64\n",
      "finance _live_games_televised      int64\n",
      "finance _tv_revenue                int64\n",
      "general_matches_played             int64\n",
      "general_won                        int64\n",
      "general_draw                       int64\n",
      "general_lost                       int64\n",
      "attack_scored                      int64\n",
      "defence_goals_conceeded            int64\n",
      "general_goal_difference            int64\n",
      "general_points                     int64\n",
      "general_squad_size                 int64\n",
      "general_squad_average_age        float64\n",
      "general_squad_foreigners           int64\n",
      "finance _team_market               int64\n",
      "finance _market_average            int64\n",
      "attack_passes                      int64\n",
      "attack_passes_through              int64\n",
      "attack_passes_long                 int64\n",
      "attack_passes_back                 int64\n",
      "attack_crosses                     int64\n",
      "attack_corners_taken               int64\n",
      "attack_shots                       int64\n",
      "attack_shots_on_target             int64\n",
      "attack_goals_headed                int64\n",
      "attack_goals_penalty               int64\n",
      "attack_goals_box                   int64\n",
      "attack_goals_outsidebox            int64\n",
      "general_card_yellow                int64\n",
      "general_card_red                   int64\n",
      "attack_goals_counter               int64\n",
      "attack_goals_freekick              int64\n",
      "defence_saves                      int64\n",
      "defence_blocks                     int64\n",
      "defence_interceptions              int64\n",
      "defence_tackles                    int64\n",
      "defence_tackles_last_man           int64\n",
      "defence_clearances                object\n",
      "defence_clearances_headed          int64\n",
      "defence_penalty_conceeded          int64\n",
      "attack_posession                 float64\n",
      "attack_pass_accuracy             float64\n",
      "dtype: object\n"
     ]
    }
   ],
   "source": [
    "print(df.dtypes)"
   ]
  },
  {
   "cell_type": "markdown",
   "metadata": {},
   "source": [
    "Several columns already converted data types from string/object to integer. "
   ]
  },
  {
   "cell_type": "markdown",
   "metadata": {},
   "source": [
    "### Rescalling was conducted in this stage"
   ]
  },
  {
   "cell_type": "code",
   "execution_count": 16,
   "metadata": {},
   "outputs": [
    {
     "name": "stdout",
     "output_type": "stream",
     "text": [
      "                         min  max\n",
      "attack_scored            0.0  1.0\n",
      "attack_passes            0.0  1.0\n",
      "attack_passes_through    0.0  1.0\n",
      "attack_passes_long       0.0  1.0\n",
      "attack_passes_back       0.0  1.0\n",
      "attack_crosses           0.0  1.0\n",
      "attack_corners_taken     0.0  1.0\n",
      "attack_shots             0.0  1.0\n",
      "attack_shots_on_target   0.0  1.0\n",
      "attack_goals_headed      0.0  1.0\n",
      "attack_goals_penalty     0.0  1.0\n",
      "attack_goals_box         0.0  1.0\n",
      "attack_goals_outsidebox  0.0  1.0\n",
      "attack_goals_counter     0.0  1.0\n",
      "attack_goals_freekick    0.0  1.0\n",
      "attack_posession         0.0  1.0\n",
      "attack_pass_accuracy     0.0  1.0\n"
     ]
    }
   ],
   "source": [
    "#Rescalling Data\n",
    "from sklearn.preprocessing import MinMaxScaler \n",
    "\n",
    "#Define MinMaxScaler as scaler  \n",
    "scaler = MinMaxScaler()  \n",
    "\n",
    "#list all the feature that need to be scaled  \n",
    "scaling_column = ['attack_scored','attack_passes','attack_passes_through', 'attack_passes_long', 'attack_passes_back', 'attack_crosses', 'attack_corners_taken', 'attack_shots', 'attack_shots_on_target', 'attack_goals_headed', 'attack_goals_penalty', 'attack_goals_box', 'attack_goals_outsidebox', 'attack_goals_counter', 'attack_goals_freekick', 'attack_posession', 'attack_pass_accuracy'] \n",
    "\n",
    "#Apply fit_transfrom to scale selected feature  \n",
    "df[scaling_column] = scaler.fit_transform(df[scaling_column])\n",
    "\n",
    "#Cheking min and max value of the scaling_column\n",
    "print(df[scaling_column].describe().T[['min','max']])"
   ]
  },
  {
   "cell_type": "code",
   "execution_count": 20,
   "metadata": {},
   "outputs": [],
   "source": [
    "df2= df.groupby(by=['Team']).mean()[['attack_scored','attack_passes','attack_passes_through', 'attack_passes_long', 'attack_passes_back', 'attack_crosses', 'attack_corners_taken', 'attack_shots', 'attack_shots_on_target', 'attack_goals_headed', 'attack_goals_penalty', 'attack_goals_box', 'attack_goals_outsidebox', 'attack_goals_counter', 'attack_goals_freekick', 'attack_posession', 'attack_pass_accuracy']].reset_index()"
   ]
  },
  {
   "cell_type": "code",
   "execution_count": 21,
   "metadata": {},
   "outputs": [],
   "source": [
    "df2['Average'] = df2.mean(axis=1)"
   ]
  },
  {
   "cell_type": "code",
   "execution_count": 22,
   "metadata": {},
   "outputs": [
    {
     "data": {
      "text/html": [
       "<div>\n",
       "<style scoped>\n",
       "    .dataframe tbody tr th:only-of-type {\n",
       "        vertical-align: middle;\n",
       "    }\n",
       "\n",
       "    .dataframe tbody tr th {\n",
       "        vertical-align: top;\n",
       "    }\n",
       "\n",
       "    .dataframe thead th {\n",
       "        text-align: right;\n",
       "    }\n",
       "</style>\n",
       "<table border=\"1\" class=\"dataframe\">\n",
       "  <thead>\n",
       "    <tr style=\"text-align: right;\">\n",
       "      <th></th>\n",
       "      <th>Team</th>\n",
       "      <th>attack_scored</th>\n",
       "      <th>attack_passes</th>\n",
       "      <th>attack_passes_through</th>\n",
       "      <th>attack_passes_long</th>\n",
       "      <th>attack_passes_back</th>\n",
       "      <th>attack_crosses</th>\n",
       "      <th>attack_corners_taken</th>\n",
       "      <th>attack_shots</th>\n",
       "      <th>attack_shots_on_target</th>\n",
       "      <th>attack_goals_headed</th>\n",
       "      <th>attack_goals_penalty</th>\n",
       "      <th>attack_goals_box</th>\n",
       "      <th>attack_goals_outsidebox</th>\n",
       "      <th>attack_goals_counter</th>\n",
       "      <th>attack_goals_freekick</th>\n",
       "      <th>attack_posession</th>\n",
       "      <th>attack_pass_accuracy</th>\n",
       "      <th>Average</th>\n",
       "    </tr>\n",
       "  </thead>\n",
       "  <tbody>\n",
       "    <tr>\n",
       "      <th>12</th>\n",
       "      <td>Manchester City</td>\n",
       "      <td>1.0</td>\n",
       "      <td>1.0</td>\n",
       "      <td>0.740458</td>\n",
       "      <td>0.035587</td>\n",
       "      <td>1.0</td>\n",
       "      <td>0.876984</td>\n",
       "      <td>1.0</td>\n",
       "      <td>1.0</td>\n",
       "      <td>1.0</td>\n",
       "      <td>0.533333</td>\n",
       "      <td>0.222222</td>\n",
       "      <td>0.940299</td>\n",
       "      <td>1.0</td>\n",
       "      <td>0.555556</td>\n",
       "      <td>0.666667</td>\n",
       "      <td>1.0</td>\n",
       "      <td>1.0</td>\n",
       "      <td>0.7983</td>\n",
       "    </tr>\n",
       "  </tbody>\n",
       "</table>\n",
       "</div>"
      ],
      "text/plain": [
       "               Team  attack_scored  attack_passes  attack_passes_through  \\\n",
       "12  Manchester City            1.0            1.0               0.740458   \n",
       "\n",
       "    attack_passes_long  attack_passes_back  attack_crosses  \\\n",
       "12            0.035587                 1.0        0.876984   \n",
       "\n",
       "    attack_corners_taken  attack_shots  attack_shots_on_target  \\\n",
       "12                   1.0           1.0                     1.0   \n",
       "\n",
       "    attack_goals_headed  attack_goals_penalty  attack_goals_box  \\\n",
       "12             0.533333              0.222222          0.940299   \n",
       "\n",
       "    attack_goals_outsidebox  attack_goals_counter  attack_goals_freekick  \\\n",
       "12                      1.0              0.555556               0.666667   \n",
       "\n",
       "    attack_posession  attack_pass_accuracy  Average  \n",
       "12               1.0                   1.0   0.7983  "
      ]
     },
     "execution_count": 22,
     "metadata": {},
     "output_type": "execute_result"
    }
   ],
   "source": [
    "df2.sort_values(by=['Average'], ascending = False).head(1)"
   ]
  },
  {
   "cell_type": "markdown",
   "metadata": {},
   "source": [
    "### Based on analysis on average every attack aspect,\n",
    "### we conclude that the best team in attacking is Manchester City."
   ]
  },
  {
   "cell_type": "markdown",
   "metadata": {},
   "source": [
    "### Case No 4\n",
    "\n",
    "### 4.\tWhich team has the best defence"
   ]
  },
  {
   "cell_type": "code",
   "execution_count": 23,
   "metadata": {},
   "outputs": [
    {
     "data": {
      "text/plain": [
       "Team                              object\n",
       "category                          object\n",
       "general_league_position            int64\n",
       "finance _live_games_televised      int64\n",
       "finance _tv_revenue                int64\n",
       "general_matches_played             int64\n",
       "general_won                        int64\n",
       "general_draw                       int64\n",
       "general_lost                       int64\n",
       "attack_scored                    float64\n",
       "defence_goals_conceeded            int64\n",
       "general_goal_difference            int64\n",
       "general_points                     int64\n",
       "general_squad_size                 int64\n",
       "general_squad_average_age        float64\n",
       "general_squad_foreigners           int64\n",
       "finance _team_market               int64\n",
       "finance _market_average            int64\n",
       "attack_passes                    float64\n",
       "attack_passes_through            float64\n",
       "attack_passes_long               float64\n",
       "attack_passes_back               float64\n",
       "attack_crosses                   float64\n",
       "attack_corners_taken             float64\n",
       "attack_shots                     float64\n",
       "attack_shots_on_target           float64\n",
       "attack_goals_headed              float64\n",
       "attack_goals_penalty             float64\n",
       "attack_goals_box                 float64\n",
       "attack_goals_outsidebox          float64\n",
       "general_card_yellow                int64\n",
       "general_card_red                   int64\n",
       "attack_goals_counter             float64\n",
       "attack_goals_freekick            float64\n",
       "defence_saves                      int64\n",
       "defence_blocks                     int64\n",
       "defence_interceptions              int64\n",
       "defence_tackles                    int64\n",
       "defence_tackles_last_man           int64\n",
       "defence_clearances                object\n",
       "defence_clearances_headed          int64\n",
       "defence_penalty_conceeded          int64\n",
       "attack_posession                 float64\n",
       "attack_pass_accuracy             float64\n",
       "dtype: object"
      ]
     },
     "execution_count": 23,
     "metadata": {},
     "output_type": "execute_result"
    }
   ],
   "source": [
    "df.dtypes"
   ]
  },
  {
   "cell_type": "code",
   "execution_count": 24,
   "metadata": {},
   "outputs": [
    {
     "name": "stdout",
     "output_type": "stream",
     "text": [
      "Team                              object\n",
      "category                          object\n",
      "general_league_position            int64\n",
      "finance _live_games_televised      int64\n",
      "finance _tv_revenue                int64\n",
      "general_matches_played             int64\n",
      "general_won                        int64\n",
      "general_draw                       int64\n",
      "general_lost                       int64\n",
      "attack_scored                    float64\n",
      "defence_goals_conceeded            int64\n",
      "general_goal_difference            int64\n",
      "general_points                     int64\n",
      "general_squad_size                 int64\n",
      "general_squad_average_age        float64\n",
      "general_squad_foreigners           int64\n",
      "finance _team_market               int64\n",
      "finance _market_average            int64\n",
      "attack_passes                    float64\n",
      "attack_passes_through            float64\n",
      "attack_passes_long               float64\n",
      "attack_passes_back               float64\n",
      "attack_crosses                   float64\n",
      "attack_corners_taken             float64\n",
      "attack_shots                     float64\n",
      "attack_shots_on_target           float64\n",
      "attack_goals_headed              float64\n",
      "attack_goals_penalty             float64\n",
      "attack_goals_box                 float64\n",
      "attack_goals_outsidebox          float64\n",
      "general_card_yellow                int64\n",
      "general_card_red                   int64\n",
      "attack_goals_counter             float64\n",
      "attack_goals_freekick            float64\n",
      "defence_saves                      int64\n",
      "defence_blocks                     int64\n",
      "defence_interceptions              int64\n",
      "defence_tackles                    int64\n",
      "defence_tackles_last_man           int64\n",
      "defence_clearances                 int64\n",
      "defence_clearances_headed          int64\n",
      "defence_penalty_conceeded          int64\n",
      "attack_posession                 float64\n",
      "attack_pass_accuracy             float64\n",
      "dtype: object\n"
     ]
    }
   ],
   "source": [
    "# Convert column 'defence_clearances'\n",
    "df['defence_clearances'] = df['defence_clearances'].str.replace(',', '')\n",
    "df[['defence_clearances']] = df[['defence_clearances']].apply(pd.to_numeric)\n",
    "print(df.dtypes)"
   ]
  },
  {
   "cell_type": "markdown",
   "metadata": {},
   "source": [
    "Defence_clearances column is converted to integer"
   ]
  },
  {
   "cell_type": "markdown",
   "metadata": {},
   "source": [
    "### Rescalling is conducted in this stage"
   ]
  },
  {
   "cell_type": "code",
   "execution_count": 25,
   "metadata": {},
   "outputs": [
    {
     "name": "stdout",
     "output_type": "stream",
     "text": [
      "                           min  max\n",
      "defence_saves              0.0  1.0\n",
      "defence_blocks             0.0  1.0\n",
      "defence_interceptions      0.0  1.0\n",
      "defence_tackles            0.0  1.0\n",
      "defence_tackles_last_man   0.0  1.0\n",
      "defence_clearances         0.0  1.0\n",
      "defence_clearances_headed  0.0  1.0\n",
      "defence_penalty_conceeded  0.0  1.0\n"
     ]
    }
   ],
   "source": [
    "from sklearn.preprocessing import MinMaxScaler \n",
    "\n",
    "#Define MinMaxScaler as scaler  \n",
    "scaler = MinMaxScaler()  \n",
    "\n",
    "#list all the feature that need to be scaled  \n",
    "scaling_column_1 = ['defence_saves','defence_blocks','defence_interceptions','defence_tackles','defence_tackles_last_man','defence_clearances','defence_clearances_headed','defence_penalty_conceeded']\n",
    "#Apply fit_transfrom to scale selected feature  \n",
    "df[scaling_column_1] = scaler.fit_transform(df[scaling_column_1])\n",
    "\n",
    "#Cheking min and max value of the scaling_column\n",
    "print(df[scaling_column_1].describe().T[['min','max']])"
   ]
  },
  {
   "cell_type": "code",
   "execution_count": 26,
   "metadata": {},
   "outputs": [],
   "source": [
    "df3= df.groupby(by=['Team']).mean()[['defence_saves','defence_blocks','defence_interceptions','defence_tackles','defence_tackles_last_man','defence_clearances','defence_clearances_headed','defence_penalty_conceeded']].reset_index()"
   ]
  },
  {
   "cell_type": "code",
   "execution_count": 27,
   "metadata": {},
   "outputs": [],
   "source": [
    "df3['Average'] = df3.mean(axis=1)"
   ]
  },
  {
   "cell_type": "code",
   "execution_count": 28,
   "metadata": {},
   "outputs": [
    {
     "data": {
      "text/html": [
       "<div>\n",
       "<style scoped>\n",
       "    .dataframe tbody tr th:only-of-type {\n",
       "        vertical-align: middle;\n",
       "    }\n",
       "\n",
       "    .dataframe tbody tr th {\n",
       "        vertical-align: top;\n",
       "    }\n",
       "\n",
       "    .dataframe thead th {\n",
       "        text-align: right;\n",
       "    }\n",
       "</style>\n",
       "<table border=\"1\" class=\"dataframe\">\n",
       "  <thead>\n",
       "    <tr style=\"text-align: right;\">\n",
       "      <th></th>\n",
       "      <th>Team</th>\n",
       "      <th>defence_saves</th>\n",
       "      <th>defence_blocks</th>\n",
       "      <th>defence_interceptions</th>\n",
       "      <th>defence_tackles</th>\n",
       "      <th>defence_tackles_last_man</th>\n",
       "      <th>defence_clearances</th>\n",
       "      <th>defence_clearances_headed</th>\n",
       "      <th>defence_penalty_conceeded</th>\n",
       "      <th>Average</th>\n",
       "    </tr>\n",
       "  </thead>\n",
       "  <tbody>\n",
       "    <tr>\n",
       "      <th>14</th>\n",
       "      <td>Newcastle</td>\n",
       "      <td>0.411111</td>\n",
       "      <td>0.446541</td>\n",
       "      <td>0.820513</td>\n",
       "      <td>0.924528</td>\n",
       "      <td>0.5</td>\n",
       "      <td>1.0</td>\n",
       "      <td>1.0</td>\n",
       "      <td>0.666667</td>\n",
       "      <td>0.72117</td>\n",
       "    </tr>\n",
       "  </tbody>\n",
       "</table>\n",
       "</div>"
      ],
      "text/plain": [
       "         Team  defence_saves  defence_blocks  defence_interceptions  \\\n",
       "14  Newcastle       0.411111        0.446541               0.820513   \n",
       "\n",
       "    defence_tackles  defence_tackles_last_man  defence_clearances  \\\n",
       "14         0.924528                       0.5                 1.0   \n",
       "\n",
       "    defence_clearances_headed  defence_penalty_conceeded  Average  \n",
       "14                        1.0                   0.666667  0.72117  "
      ]
     },
     "execution_count": 28,
     "metadata": {},
     "output_type": "execute_result"
    }
   ],
   "source": [
    "df3.sort_values(by=['Average'], ascending = False).head(1)"
   ]
  },
  {
   "cell_type": "markdown",
   "metadata": {},
   "source": [
    "### Based on analysis on average every defence aspect,\n",
    "### we conclude that the best team in defence is Newcastle."
   ]
  },
  {
   "cell_type": "markdown",
   "metadata": {},
   "source": [
    "### Case No 5\n",
    "\n",
    "### 5.\tWhich team is good in the financial aspect?\\"
   ]
  },
  {
   "cell_type": "code",
   "execution_count": 29,
   "metadata": {},
   "outputs": [
    {
     "data": {
      "text/plain": [
       "Team                              object\n",
       "category                          object\n",
       "general_league_position            int64\n",
       "finance _live_games_televised      int64\n",
       "finance _tv_revenue                int64\n",
       "general_matches_played             int64\n",
       "general_won                        int64\n",
       "general_draw                       int64\n",
       "general_lost                       int64\n",
       "attack_scored                    float64\n",
       "defence_goals_conceeded            int64\n",
       "general_goal_difference            int64\n",
       "general_points                     int64\n",
       "general_squad_size                 int64\n",
       "general_squad_average_age        float64\n",
       "general_squad_foreigners           int64\n",
       "finance _team_market               int64\n",
       "finance _market_average            int64\n",
       "attack_passes                    float64\n",
       "attack_passes_through            float64\n",
       "attack_passes_long               float64\n",
       "attack_passes_back               float64\n",
       "attack_crosses                   float64\n",
       "attack_corners_taken             float64\n",
       "attack_shots                     float64\n",
       "attack_shots_on_target           float64\n",
       "attack_goals_headed              float64\n",
       "attack_goals_penalty             float64\n",
       "attack_goals_box                 float64\n",
       "attack_goals_outsidebox          float64\n",
       "general_card_yellow                int64\n",
       "general_card_red                   int64\n",
       "attack_goals_counter             float64\n",
       "attack_goals_freekick            float64\n",
       "defence_saves                    float64\n",
       "defence_blocks                   float64\n",
       "defence_interceptions            float64\n",
       "defence_tackles                  float64\n",
       "defence_tackles_last_man         float64\n",
       "defence_clearances               float64\n",
       "defence_clearances_headed        float64\n",
       "defence_penalty_conceeded        float64\n",
       "attack_posession                 float64\n",
       "attack_pass_accuracy             float64\n",
       "dtype: object"
      ]
     },
     "execution_count": 29,
     "metadata": {},
     "output_type": "execute_result"
    }
   ],
   "source": [
    "df.dtypes"
   ]
  },
  {
   "cell_type": "code",
   "execution_count": 30,
   "metadata": {},
   "outputs": [],
   "source": [
    "finance= df.groupby(by=['Team']).mean()[['finance _live_games_televised','finance _tv_revenue','finance _team_market','finance _market_average']].reset_index()"
   ]
  },
  {
   "cell_type": "code",
   "execution_count": 31,
   "metadata": {},
   "outputs": [],
   "source": [
    "finance['Average'] = finance.mean(axis=1)"
   ]
  },
  {
   "cell_type": "code",
   "execution_count": 32,
   "metadata": {},
   "outputs": [
    {
     "data": {
      "text/html": [
       "<div>\n",
       "<style scoped>\n",
       "    .dataframe tbody tr th:only-of-type {\n",
       "        vertical-align: middle;\n",
       "    }\n",
       "\n",
       "    .dataframe tbody tr th {\n",
       "        vertical-align: top;\n",
       "    }\n",
       "\n",
       "    .dataframe thead th {\n",
       "        text-align: right;\n",
       "    }\n",
       "</style>\n",
       "<table border=\"1\" class=\"dataframe\">\n",
       "  <thead>\n",
       "    <tr style=\"text-align: right;\">\n",
       "      <th></th>\n",
       "      <th>Team</th>\n",
       "      <th>finance _live_games_televised</th>\n",
       "      <th>finance _tv_revenue</th>\n",
       "      <th>finance _team_market</th>\n",
       "      <th>finance _market_average</th>\n",
       "      <th>Average</th>\n",
       "    </tr>\n",
       "  </thead>\n",
       "  <tbody>\n",
       "    <tr>\n",
       "      <th>12</th>\n",
       "      <td>Manchester City</td>\n",
       "      <td>26</td>\n",
       "      <td>150986355</td>\n",
       "      <td>1003200000</td>\n",
       "      <td>39987200</td>\n",
       "      <td>2.985434e+08</td>\n",
       "    </tr>\n",
       "  </tbody>\n",
       "</table>\n",
       "</div>"
      ],
      "text/plain": [
       "               Team  finance _live_games_televised  finance _tv_revenue  \\\n",
       "12  Manchester City                             26            150986355   \n",
       "\n",
       "    finance _team_market  finance _market_average       Average  \n",
       "12            1003200000                 39987200  2.985434e+08  "
      ]
     },
     "execution_count": 32,
     "metadata": {},
     "output_type": "execute_result"
    }
   ],
   "source": [
    "finance.sort_values(by=['Average'], ascending = False).head(1)"
   ]
  },
  {
   "cell_type": "markdown",
   "metadata": {},
   "source": [
    "### Based on analysis on average every finance aspect,\n",
    "### we conclude that good in finance is Manchester City."
   ]
  },
  {
   "cell_type": "markdown",
   "metadata": {},
   "source": [
    "### Case No 6\n",
    "\n",
    "### 6.\tExplore your creativity!"
   ]
  },
  {
   "cell_type": "markdown",
   "metadata": {},
   "source": [
    "### Relationship between foreigner players and team's winning"
   ]
  },
  {
   "cell_type": "code",
   "execution_count": 33,
   "metadata": {},
   "outputs": [
    {
     "name": "stderr",
     "output_type": "stream",
     "text": [
      "C:\\Users\\hp\\Anaconda3\\lib\\site-packages\\seaborn\\_decorators.py:43: FutureWarning: Pass the following variables as keyword args: x, y. From version 0.12, the only valid positional argument will be `data`, and passing other arguments without an explicit keyword will result in an error or misinterpretation.\n",
      "  FutureWarning\n",
      "No handles with labels found to put in legend.\n"
     ]
    },
    {
     "data": {
      "image/png": "[encoded data removed]",
      "text/plain": [
       "<Figure size 432x288 with 1 Axes>"
      ]
     },
     "metadata": {
      "needs_background": "light"
     },
     "output_type": "display_data"
    }
   ],
   "source": [
    "sns.scatterplot(df['general_squad_foreigners'], df['general_won'])\n",
    "plt.xlabel('general_squad_foreigners')\n",
    "plt.ylabel('general_won')\n",
    "plt.legend()\n",
    "plt.show()"
   ]
  },
  {
   "cell_type": "markdown",
   "metadata": {},
   "source": [
    "### Based on the graph, the number of foreign players in the EPL does not affect the team's win. This can be because the style of playing, strategy each country are different, so the presence of foreign players is not too influential."
   ]
  },
  {
   "cell_type": "markdown",
   "metadata": {},
   "source": [
    "### Average Player's age each Team in EPL"
   ]
  },
  {
   "cell_type": "code",
   "execution_count": 34,
   "metadata": {},
   "outputs": [
    {
     "data": {
      "image/png": "[encoded data removed]",
      "text/plain": [
       "<Figure size 720x360 with 1 Axes>"
      ]
     },
     "metadata": {
      "needs_background": "light"
     },
     "output_type": "display_data"
    }
   ],
   "source": [
    "# barplot\n",
    "plt.figure(figsize=(10, 5))\n",
    "plot= sns.barplot(x = 'Team',\n",
    "            y = 'general_squad_average_age',\n",
    "            data = df)\n",
    "plt.setp(plot.get_xticklabels(), rotation=90)\n",
    "plt.xlabel('Team', fontsize=15)\n",
    "plt.ylabel('general_squad_average_age', fontsize=15)\n",
    "# Show the plot\n",
    "plt.show()"
   ]
  },
  {
   "cell_type": "markdown",
   "metadata": {},
   "source": [
    "### Based on the graph, almost all teams have an average age of players at 26-29 years. Maybe this is one of the reasons why the English league is so dynamic. The spirit, stamina and performance of these young players affect the team's performance."
   ]
  }
 ],
 "metadata": {
  "kernelspec": {
   "display_name": "Python 3",
   "language": "python",
   "name": "python3"
  },
  "language_info": {
   "codemirror_mode": {
    "name": "ipython",
    "version": 3
   },
   "file_extension": ".py",
   "mimetype": "text/x-python",
   "name": "python",
   "nbconvert_exporter": "python",
   "pygments_lexer": "ipython3",
   "version": "3.7.4"
  }
 },
 "nbformat": 4,
 "nbformat_minor": 4
}
